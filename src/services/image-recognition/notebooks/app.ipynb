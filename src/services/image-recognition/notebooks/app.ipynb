{
 "cells": [
  {
   "cell_type": "markdown",
   "id": "9d517242",
   "metadata": {},
   "source": [
    "## Imports"
   ]
  },
  {
   "cell_type": "code",
   "execution_count": null,
   "id": "f3217baf",
   "metadata": {},
   "outputs": [],
   "source": [
    "from flask import Flask, request, redirect, url_for, flash, jsonify\n",
    "from flasgger import Swagger\n",
    "import flasgger"
   ]
  },
  {
   "cell_type": "markdown",
   "id": "0d2a261d",
   "metadata": {},
   "source": [
    "## Define constants"
   ]
  },
  {
   "cell_type": "code",
   "execution_count": null,
   "id": "dac2b0eb",
   "metadata": {},
   "outputs": [],
   "source": [
    "HOST = 'localhost'\n",
    "PORT = 1001"
   ]
  },
  {
   "cell_type": "markdown",
   "id": "86c73852",
   "metadata": {},
   "source": [
    "## Setup microservice"
   ]
  },
  {
   "cell_type": "code",
   "execution_count": null,
   "id": "23dd4399",
   "metadata": {},
   "outputs": [],
   "source": [
    "app = Flask(__name__)\n",
    "\n",
    "app.config['SWAGGER'] = {\n",
    "    'specs_route': '/api-docs/',\n",
    "    'title': 'Image Recognition Service',\n",
    "    'description': 'RESTful Web API documentation',\n",
    "    'version': '1.0.0'\n",
    "}\n",
    "\n",
    "Swagger(app)"
   ]
  },
  {
   "cell_type": "markdown",
   "id": "6ae498b7",
   "metadata": {},
   "source": [
    "## Define microservice routes"
   ]
  },
  {
   "cell_type": "code",
   "execution_count": null,
   "id": "a8d9907e",
   "metadata": {},
   "outputs": [],
   "source": [
    "@app.route('/api/v1/monitoring/probe', methods = ['GET'])\n",
    "def probe():\n",
    "    \"\"\"\n",
    "    Probes the service. Monitoring operations should use this endpoint.\n",
    "    ---\n",
    "    tags:\n",
    "      - Monitoring\n",
    "    responses:\n",
    "      200:\n",
    "        description: The service is running.\n",
    "    \"\"\"\n",
    "    return '', 200"
   ]
  },
  {
   "cell_type": "markdown",
   "id": "db036817",
   "metadata": {},
   "source": [
    "## Start microservice"
   ]
  },
  {
   "cell_type": "code",
   "execution_count": null,
   "id": "0c425982",
   "metadata": {
    "scrolled": true
   },
   "outputs": [],
   "source": [
    "if __name__ == '__main__':\n",
    "    app.run(host = HOST, port = PORT)"
   ]
  }
 ],
 "metadata": {
  "kernelspec": {
   "display_name": "Python 3 (ipykernel)",
   "language": "python",
   "name": "python3"
  },
  "language_info": {
   "codemirror_mode": {
    "name": "ipython",
    "version": 3
   },
   "file_extension": ".py",
   "mimetype": "text/x-python",
   "name": "python",
   "nbconvert_exporter": "python",
   "pygments_lexer": "ipython3",
   "version": "3.9.7"
  }
 },
 "nbformat": 4,
 "nbformat_minor": 5
}
