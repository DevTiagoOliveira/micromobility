{
 "cells": [
  {
   "cell_type": "markdown",
   "id": "9d517242",
   "metadata": {},
   "source": [
    "## Imports"
   ]
  },
  {
   "cell_type": "code",
   "execution_count": null,
   "id": "f3217baf",
   "metadata": {},
   "outputs": [],
   "source": [
    "import numpy as np\n",
    "import os\n",
    "from PIL import Image\n",
    "from tensorflow import keras\n",
    "from flask import Flask, request, jsonify\n",
    "from flasgger import Swagger"
   ]
  },
  {
   "cell_type": "markdown",
   "id": "de59cbfc",
   "metadata": {},
   "source": [
    "## Define models"
   ]
  },
  {
   "cell_type": "code",
   "execution_count": null,
   "id": "587a235a",
   "metadata": {},
   "outputs": [],
   "source": [
    "genre_model = keras.models.load_model('models/genre.h5')\n",
    "age_model = keras.models.load_model('models/age.h5')"
   ]
  },
  {
   "cell_type": "markdown",
   "id": "5414e051",
   "metadata": {},
   "source": [
    "## Define image validation routine"
   ]
  },
  {
   "cell_type": "code",
   "execution_count": null,
   "id": "6b232bd2",
   "metadata": {},
   "outputs": [],
   "source": [
    "def allowed_file_extension(filename):\n",
    "    return '.' in filename and filename.rsplit('.', 1)[1] in set(['png', 'jpg', 'jpeg', 'gif', 'tif'])"
   ]
  },
  {
   "cell_type": "markdown",
   "id": "c169ff5c",
   "metadata": {},
   "source": [
    "## Define genre and age prediction routine"
   ]
  },
  {
   "cell_type": "code",
   "execution_count": null,
   "id": "e413a182",
   "metadata": {},
   "outputs": [],
   "source": [
    "def predict_genre_and_age(filepath):\n",
    "    im = Image.open(filepath)\n",
    "    width, height = im.size\n",
    "    \n",
    "    if width == height:\n",
    "        im = im.resize((200, 200), Image.ANTIALIAS)\n",
    "    else:\n",
    "        if width > height:\n",
    "            left = width/2 - height/2\n",
    "            right = width/2 + height/2\n",
    "            top = 0\n",
    "            bottom = height\n",
    "            im = im.crop((left, top, right, bottom))\n",
    "            im = im.resize((200, 200), Image.ANTIALIAS)\n",
    "        else:\n",
    "            left = 0\n",
    "            right = width\n",
    "            top = 0\n",
    "            bottom = width\n",
    "            im = im.crop((left, top, right, bottom))\n",
    "            im = im.resize((200, 200), Image.ANTIALIAS)\n",
    "            \n",
    "    ar = np.asarray(im)\n",
    "    ar = ar.astype('float32')\n",
    "    ar /= 255.0\n",
    "    ar = ar.reshape(-1, 200, 200, 3)\n",
    "    \n",
    "    gender = np.round(genre_model.predict(ar))\n",
    "    age = int(age_model.predict(ar))\n",
    "    \n",
    "    if gender == 0:\n",
    "        gender = 'Male'\n",
    "    elif gender == 1:\n",
    "        gender = 'Female'\n",
    "        \n",
    "    return gender, age"
   ]
  },
  {
   "cell_type": "markdown",
   "id": "86c73852",
   "metadata": {},
   "source": [
    "## Setup microservice"
   ]
  },
  {
   "cell_type": "code",
   "execution_count": null,
   "id": "23dd4399",
   "metadata": {},
   "outputs": [],
   "source": [
    "app = Flask(__name__)\n",
    "\n",
    "app.config['UPLOAD_FOLDER'] = 'uploads/'\n",
    "app.config['SWAGGER'] = {\n",
    "    'specs_route': '/api-docs/',\n",
    "    'title': 'Image Recognition Service',\n",
    "    'description': 'RESTful Web API documentation',\n",
    "    'version': '1.0.0'\n",
    "}\n",
    "\n",
    "Swagger(app)"
   ]
  },
  {
   "cell_type": "markdown",
   "id": "6ae498b7",
   "metadata": {},
   "source": [
    "## Define microservice routes"
   ]
  },
  {
   "cell_type": "code",
   "execution_count": null,
   "id": "a8d9907e",
   "metadata": {},
   "outputs": [],
   "source": [
    "@app.route('/api/v1/monitoring/probe', methods = ['GET'])\n",
    "def probe():\n",
    "    \"\"\"\n",
    "    Probes the service. Monitoring operations should use this endpoint.\n",
    "    ---\n",
    "    tags:\n",
    "      - Monitoring\n",
    "    responses:\n",
    "      200:\n",
    "        description: The service is running.\n",
    "    \"\"\"\n",
    "    \n",
    "    return ''\n",
    "\n",
    "@app.route('/api/v1/prediction/human', methods = ['POST'])\n",
    "def predict():\n",
    "    \"\"\"\n",
    "    Predicts the gender and age of the specified human.\n",
    "    ---\n",
    "    tags:\n",
    "      - Prediction\n",
    "    parameters:\n",
    "      - name: image\n",
    "        description: The image of the human.\n",
    "        enum: [ 'png', 'jpg', 'jpeg', 'gif', 'tif']\n",
    "        required: true\n",
    "    responses:\n",
    "      200:\n",
    "        description: The prediction has been sucessfully retrieved.\n",
    "      400:\n",
    "        description: The request is invalid.\n",
    "    \"\"\"\n",
    "        \n",
    "    if 'image' not in request.files:\n",
    "        return jsonify({'error': 'The request does not include an image.'}), 400\n",
    "\n",
    "    file = request.files['image']\n",
    "\n",
    "    if file.filename == '':\n",
    "        return jsonify({'error': 'The file name is invalid.'}), 400\n",
    "\n",
    "    if not allowed_file_extension(file.filename):\n",
    "        return jsonify({'error': 'The file extension is invalid.'}), 400\n",
    "\n",
    "    filepath = os.path.join(app.config['UPLOAD_FOLDER'], file.filename)     \n",
    "    file.save(filepath)\n",
    "    prediction = predict_genre_and_age(filepath)\n",
    "\n",
    "    return jsonify({\n",
    "        'genre': prediction[0],\n",
    "        'age': prediction[1]\n",
    "    })"
   ]
  },
  {
   "cell_type": "markdown",
   "id": "db036817",
   "metadata": {},
   "source": [
    "## Start microservice"
   ]
  },
  {
   "cell_type": "code",
   "execution_count": null,
   "id": "0c425982",
   "metadata": {
    "scrolled": true
   },
   "outputs": [],
   "source": [
    "if __name__ == '__main__':\n",
    "    app.run(host = '0.0.0.0', port = 1001)"
   ]
  }
 ],
 "metadata": {
  "kernelspec": {
   "display_name": "Python 3 (ipykernel)",
   "language": "python",
   "name": "python3"
  },
  "language_info": {
   "codemirror_mode": {
    "name": "ipython",
    "version": 3
   },
   "file_extension": ".py",
   "mimetype": "text/x-python",
   "name": "python",
   "nbconvert_exporter": "python",
   "pygments_lexer": "ipython3",
   "version": "3.9.7"
  }
 },
 "nbformat": 4,
 "nbformat_minor": 5
}
